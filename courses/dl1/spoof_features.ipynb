{
 "cells": [
  {
   "cell_type": "markdown",
   "metadata": {},
   "source": [
    "#### Imports"
   ]
  },
  {
   "cell_type": "code",
   "execution_count": 1,
   "metadata": {},
   "outputs": [],
   "source": [
    "%reload_ext autoreload\n",
    "%autoreload 2\n",
    "%matplotlib inline"
   ]
  },
  {
   "cell_type": "code",
   "execution_count": 2,
   "metadata": {},
   "outputs": [
    {
     "name": "stdout",
     "output_type": "stream",
     "text": [
      "env: JOBLIB_TEMP_FOLDER=data/antispoofing/tmp\n"
     ]
    }
   ],
   "source": [
    "%env JOBLIB_TEMP_FOLDER=data/antispoofing/tmp\n",
    "import operator\n",
    "from multiprocessing import Pool, TimeoutError\n",
    "import glob\n",
    "import os\n",
    "import cv2\n",
    "\n",
    "import numpy as np\n",
    "from tqdm import tqdm_notebook"
   ]
  },
  {
   "cell_type": "code",
   "execution_count": 3,
   "metadata": {},
   "outputs": [],
   "source": [
    "from matplotlib import pyplot as plt"
   ]
  },
  {
   "cell_type": "code",
   "execution_count": 26,
   "metadata": {},
   "outputs": [],
   "source": [
    "from sklearn.model_selection import StratifiedKFold"
   ]
  },
  {
   "cell_type": "code",
   "execution_count": 46,
   "metadata": {},
   "outputs": [],
   "source": [
    "from sklearn.metrics import roc_auc_score"
   ]
  },
  {
   "cell_type": "code",
   "execution_count": 27,
   "metadata": {},
   "outputs": [],
   "source": [
    "import lightgbm as lgb"
   ]
  },
  {
   "cell_type": "code",
   "execution_count": 35,
   "metadata": {},
   "outputs": [],
   "source": [
    "import gc"
   ]
  },
  {
   "cell_type": "markdown",
   "metadata": {},
   "source": [
    "#### Paths"
   ]
  },
  {
   "cell_type": "code",
   "execution_count": 4,
   "metadata": {},
   "outputs": [],
   "source": [
    "PATH = \"data/antispoofing/\""
   ]
  },
  {
   "cell_type": "code",
   "execution_count": 5,
   "metadata": {},
   "outputs": [],
   "source": [
    "TEST_PATH = \"data/antispoofing/test/\""
   ]
  },
  {
   "cell_type": "code",
   "execution_count": 6,
   "metadata": {},
   "outputs": [],
   "source": [
    "TRN_REAL_PATH = os.path.join(PATH, 'train/real')\n",
    "TRN_SPOOF_PATH = os.path.join(PATH, 'train/spoof')\n",
    "VAL_REAL_PATH = os.path.join(PATH, 'valid/real')\n",
    "VAL_SPOOF_PATH = os.path.join(PATH, 'valid/spoof')"
   ]
  },
  {
   "cell_type": "markdown",
   "metadata": {},
   "source": [
    "#### Const"
   ]
  },
  {
   "cell_type": "code",
   "execution_count": 7,
   "metadata": {},
   "outputs": [],
   "source": [
    "NEW_WIDTH = 480\n",
    "NEW_HEIGHT = 480\n",
    "POOL_THREADS = 16"
   ]
  },
  {
   "cell_type": "markdown",
   "metadata": {},
   "source": [
    "#### Workflow "
   ]
  },
  {
   "cell_type": "markdown",
   "metadata": {},
   "source": [
    "##### Funcs"
   ]
  },
  {
   "cell_type": "code",
   "execution_count": 13,
   "metadata": {},
   "outputs": [],
   "source": [
    "# Feature extractor\n",
    "def extract_feature_vector(image, vector_size=32):\n",
    "    try:\n",
    "        # Using KAZE, cause SIFT, ORB and other was moved to additional module\n",
    "        # which is adding addtional pain during install\n",
    "        alg = cv2.KAZE_create()\n",
    "        # Dinding image keypoints\n",
    "        kps = alg.detect(image)\n",
    "        # Getting first 32 of them.\n",
    "        # Number of keypoints is varies depend on image size and color pallet\n",
    "        # Sorting them based on keypoint response value(bigger is better)\n",
    "        kps = sorted(kps, key=lambda x: -x.response)[:vector_size]\n",
    "        # computing descriptors vector\n",
    "        kps, dsc = alg.compute(image, kps)\n",
    "        # Flatten all of them in one big vector - our feature vector\n",
    "        if dsc is not None:\n",
    "            dsc = dsc.flatten()\n",
    "            # Making descriptor of same size\n",
    "            # Descriptor vector size is 64\n",
    "            needed_size = (vector_size * 64)\n",
    "            if dsc.size < needed_size:\n",
    "                # if we have less the 32 descriptors then just adding zeros at the\n",
    "                # end of our feature vector\n",
    "                dsc = np.concatenate([dsc, np.zeros(needed_size - dsc.size)])\n",
    "        else:\n",
    "            needed_size = (vector_size * 64)\n",
    "            dsc = np.zeros(needed_size)\n",
    "    except cv2.error as e:\n",
    "        print( 'Error: ', e)\n",
    "        return None\n",
    "\n",
    "    return dsc"
   ]
  },
  {
   "cell_type": "code",
   "execution_count": 14,
   "metadata": {},
   "outputs": [],
   "source": [
    "def process_single(file):\n",
    "    image = cv2.imread(file)\n",
    "    h, w, c = image.shape\n",
    "    dw, dh = w // 4, h // 4\n",
    "    return extract_feature_vector(cv2.resize(image[dh:h-dh, dw:w-dw, :], (NEW_WIDTH, NEW_HEIGHT)))"
   ]
  },
  {
   "cell_type": "code",
   "execution_count": 15,
   "metadata": {},
   "outputs": [],
   "source": [
    "def extract_features(filelist):\n",
    "    def __impl(files):\n",
    "        pool = Pool(POOL_THREADS) \n",
    "        feats = list(tqdm_notebook(pool.imap(process_single, files), total=len(files)))        \n",
    "        return feats\n",
    "    feature_list = __impl(filelist) \n",
    "    return [x for x in feature_list if x is not None]"
   ]
  },
  {
   "cell_type": "markdown",
   "metadata": {},
   "source": [
    "##### Load data and extract features"
   ]
  },
  {
   "cell_type": "code",
   "execution_count": 21,
   "metadata": {},
   "outputs": [
    {
     "data": {
      "application/vnd.jupyter.widget-view+json": {
       "model_id": "2ecb7a22bda64fa8b8e190fcd054a7a1",
       "version_major": 2,
       "version_minor": 0
      },
      "text/plain": [
       "HBox(children=(IntProgress(value=0, max=373), HTML(value='')))"
      ]
     },
     "metadata": {},
     "output_type": "display_data"
    },
    {
     "name": "stdout",
     "output_type": "stream",
     "text": [
      "\n"
     ]
    }
   ],
   "source": [
    "# load valid\n",
    "val_real_filelist  = glob.glob(os.path.join(VAL_REAL_PATH, '*.png'))\n",
    "val_spoof_filelist = glob.glob(os.path.join(VAL_SPOOF_PATH, '*.png'))\n",
    "\n",
    "val_real_features = extract_features(val_real_filelist)"
   ]
  },
  {
   "cell_type": "code",
   "execution_count": 22,
   "metadata": {},
   "outputs": [
    {
     "data": {
      "application/vnd.jupyter.widget-view+json": {
       "model_id": "f0d8d736e257497b94abe8199fd8475d",
       "version_major": 2,
       "version_minor": 0
      },
      "text/plain": [
       "HBox(children=(IntProgress(value=0, max=632), HTML(value='')))"
      ]
     },
     "metadata": {},
     "output_type": "display_data"
    },
    {
     "name": "stdout",
     "output_type": "stream",
     "text": [
      "\n"
     ]
    }
   ],
   "source": [
    "val_spoof_features = extract_features(val_spoof_filelist)\n",
    "\n",
    "val_data = val_real_features + val_spoof_features\n",
    "val_labels = [0] * len(val_real_features) + [1] * len(val_spoof_features)"
   ]
  },
  {
   "cell_type": "code",
   "execution_count": 23,
   "metadata": {},
   "outputs": [
    {
     "data": {
      "text/plain": [
       "(373, 373)"
      ]
     },
     "execution_count": 23,
     "metadata": {},
     "output_type": "execute_result"
    }
   ],
   "source": [
    "len(val_real_features), len(val_real_filelist)"
   ]
  },
  {
   "cell_type": "code",
   "execution_count": 24,
   "metadata": {},
   "outputs": [
    {
     "data": {
      "text/plain": [
       "(632, 632)"
      ]
     },
     "execution_count": 24,
     "metadata": {},
     "output_type": "execute_result"
    }
   ],
   "source": [
    "len(val_spoof_features), len(val_spoof_filelist)"
   ]
  },
  {
   "cell_type": "code",
   "execution_count": 18,
   "metadata": {
    "scrolled": false
   },
   "outputs": [
    {
     "data": {
      "application/vnd.jupyter.widget-view+json": {
       "model_id": "8812f5f50bee462bbbf81cd783d57707",
       "version_major": 2,
       "version_minor": 0
      },
      "text/plain": [
       "HBox(children=(IntProgress(value=0, max=1223), HTML(value='')))"
      ]
     },
     "metadata": {},
     "output_type": "display_data"
    },
    {
     "name": "stdout",
     "output_type": "stream",
     "text": [
      "\n"
     ]
    }
   ],
   "source": [
    "# load train\n",
    "train_real_filelist  = glob.glob(os.path.join(TRN_REAL_PATH, '*.png'))\n",
    "train_real_features = extract_features(train_real_filelist)"
   ]
  },
  {
   "cell_type": "code",
   "execution_count": 19,
   "metadata": {},
   "outputs": [
    {
     "data": {
      "text/plain": [
       "(1223, 1223)"
      ]
     },
     "execution_count": 19,
     "metadata": {},
     "output_type": "execute_result"
    }
   ],
   "source": [
    "len(train_real_features), len(train_real_filelist)"
   ]
  },
  {
   "cell_type": "code",
   "execution_count": 16,
   "metadata": {},
   "outputs": [
    {
     "data": {
      "application/vnd.jupyter.widget-view+json": {
       "model_id": "9f8ce3b9c7bd4639bc84efd1e2490741",
       "version_major": 2,
       "version_minor": 0
      },
      "text/plain": [
       "HBox(children=(IntProgress(value=0, max=7076), HTML(value='')))"
      ]
     },
     "metadata": {},
     "output_type": "display_data"
    },
    {
     "name": "stdout",
     "output_type": "stream",
     "text": [
      "\n"
     ]
    }
   ],
   "source": [
    "train_spoof_filelist = glob.glob(os.path.join(TRN_SPOOF_PATH, '*.png'))\n",
    "train_spoof_features = extract_features(train_spoof_filelist)"
   ]
  },
  {
   "cell_type": "code",
   "execution_count": 17,
   "metadata": {},
   "outputs": [
    {
     "data": {
      "text/plain": [
       "(7076, 7076)"
      ]
     },
     "execution_count": 17,
     "metadata": {},
     "output_type": "execute_result"
    }
   ],
   "source": [
    "len(train_spoof_features), len(train_spoof_filelist)"
   ]
  },
  {
   "cell_type": "code",
   "execution_count": 20,
   "metadata": {},
   "outputs": [],
   "source": [
    "train_data = train_real_features + train_spoof_features\n",
    "labels = [0] * len(train_real_features) + [1] * len(train_spoof_features)"
   ]
  },
  {
   "cell_type": "markdown",
   "metadata": {},
   "source": [
    "#### Modeling "
   ]
  },
  {
   "cell_type": "code",
   "execution_count": 28,
   "metadata": {},
   "outputs": [],
   "source": [
    "n_folds = 5"
   ]
  },
  {
   "cell_type": "code",
   "execution_count": 29,
   "metadata": {},
   "outputs": [],
   "source": [
    "# Convert to np arrays\n",
    "features = np.array(train_data)\n",
    "val_features = np.array(val_data)\n",
    "\n",
    "# Create the kfold object\n",
    "k_fold = StratifiedKFold(n_splits=n_folds, shuffle=True, random_state=50)"
   ]
  },
  {
   "cell_type": "code",
   "execution_count": 34,
   "metadata": {
    "scrolled": true
   },
   "outputs": [
    {
     "data": {
      "text/plain": [
       "(8299, (8299, 2048))"
      ]
     },
     "execution_count": 34,
     "metadata": {},
     "output_type": "execute_result"
    }
   ],
   "source": [
    "len(labels), features.shape"
   ]
  },
  {
   "cell_type": "code",
   "execution_count": 37,
   "metadata": {},
   "outputs": [],
   "source": [
    "labels = np.array(labels)\n",
    "val_labels = np.array(val_labels)"
   ]
  },
  {
   "cell_type": "code",
   "execution_count": 38,
   "metadata": {},
   "outputs": [
    {
     "name": "stdout",
     "output_type": "stream",
     "text": [
      "Training until validation scores don't improve for 100 rounds.\n",
      "[200]\tvalid's auc: 0.727431\ttrain's auc: 0.999995\n",
      "Early stopping, best iteration is:\n",
      "[234]\tvalid's auc: 0.733263\ttrain's auc: 0.999997\n",
      "Training until validation scores don't improve for 100 rounds.\n",
      "[200]\tvalid's auc: 0.717646\ttrain's auc: 0.999993\n",
      "[400]\tvalid's auc: 0.721102\ttrain's auc: 0.999996\n",
      "Early stopping, best iteration is:\n",
      "[314]\tvalid's auc: 0.719308\ttrain's auc: 0.999996\n",
      "Training until validation scores don't improve for 100 rounds.\n",
      "[200]\tvalid's auc: 0.737835\ttrain's auc: 0.999994\n",
      "Early stopping, best iteration is:\n",
      "[177]\tvalid's auc: 0.739087\ttrain's auc: 0.999995\n",
      "Training until validation scores don't improve for 100 rounds.\n",
      "[200]\tvalid's auc: 0.721624\ttrain's auc: 0.999997\n",
      "Early stopping, best iteration is:\n",
      "[151]\tvalid's auc: 0.718905\ttrain's auc: 0.999997\n",
      "Training until validation scores don't improve for 100 rounds.\n",
      "[200]\tvalid's auc: 0.725821\ttrain's auc: 0.999995\n",
      "Early stopping, best iteration is:\n",
      "[239]\tvalid's auc: 0.728874\ttrain's auc: 0.999995\n"
     ]
    }
   ],
   "source": [
    "# Lists for recording validation and training scores\n",
    "valid_scores = []\n",
    "train_scores = []\n",
    "models = []\n",
    "best_iters = []\n",
    "\n",
    "# Iterate through each fold\n",
    "for train_indices, valid_indices in k_fold.split(features, labels):\n",
    "\n",
    "    # Training data for the fold\n",
    "    train_features, train_labels = features[train_indices], labels[train_indices]\n",
    "    # Validation data for the fold\n",
    "    valid_features, valid_labels = features[valid_indices], labels[valid_indices]\n",
    "\n",
    "    # Create the model\n",
    "    model = lgb.LGBMClassifier(n_estimators=10000, objective='binary',\n",
    "                               class_weight='balanced', learning_rate=0.05,\n",
    "                               reg_alpha=0.1, reg_lambda=0.1,\n",
    "                               subsample=0.8, n_jobs=-1,\n",
    "                               random_state=50)\n",
    "\n",
    "    # Train the model\n",
    "    model.fit(train_features, train_labels, eval_metric='auc',\n",
    "              eval_set=[(valid_features, valid_labels),\n",
    "                        (train_features, train_labels)],\n",
    "              eval_names=['valid', 'train'],\n",
    "              early_stopping_rounds=100, verbose=200)\n",
    "\n",
    "    # Record the best iteration\n",
    "    best_iters.append(model.best_iteration_)\n",
    "\n",
    "    # Record the best score\n",
    "    valid_score = model.best_score_['valid']['auc']\n",
    "    train_score = model.best_score_['train']['auc']\n",
    "\n",
    "    valid_scores.append(valid_score)\n",
    "    train_scores.append(train_score)\n",
    "    \n",
    "    models.append(model)\n",
    "\n",
    "    # Clean up memory\n",
    "    gc.enable()\n",
    "    del model, train_features, valid_features\n",
    "    gc.collect()"
   ]
  },
  {
   "cell_type": "code",
   "execution_count": 41,
   "metadata": {},
   "outputs": [],
   "source": [
    "opt_model = models[2]\n",
    "best_it = best_iters[2]"
   ]
  },
  {
   "cell_type": "code",
   "execution_count": 44,
   "metadata": {},
   "outputs": [],
   "source": [
    "valid_preds = opt_model.predict_proba(val_features, num_iteration=best_it)[:, 1]"
   ]
  },
  {
   "cell_type": "code",
   "execution_count": 47,
   "metadata": {},
   "outputs": [
    {
     "data": {
      "text/plain": [
       "0.5782527912580174"
      ]
     },
     "execution_count": 47,
     "metadata": {},
     "output_type": "execute_result"
    }
   ],
   "source": [
    "roc_auc_score(val_labels, valid_preds)"
   ]
  },
  {
   "cell_type": "code",
   "execution_count": null,
   "metadata": {},
   "outputs": [],
   "source": []
  }
 ],
 "metadata": {
  "kernelspec": {
   "display_name": "Python 3",
   "language": "python",
   "name": "python3"
  },
  "language_info": {
   "codemirror_mode": {
    "name": "ipython",
    "version": 3
   },
   "file_extension": ".py",
   "mimetype": "text/x-python",
   "name": "python",
   "nbconvert_exporter": "python",
   "pygments_lexer": "ipython3",
   "version": "3.6.5"
  },
  "toc": {
   "base_numbering": 1,
   "nav_menu": {},
   "number_sections": true,
   "sideBar": true,
   "skip_h1_title": false,
   "title_cell": "Table of Contents",
   "title_sidebar": "Contents",
   "toc_cell": false,
   "toc_position": {},
   "toc_section_display": true,
   "toc_window_display": false
  }
 },
 "nbformat": 4,
 "nbformat_minor": 2
}
